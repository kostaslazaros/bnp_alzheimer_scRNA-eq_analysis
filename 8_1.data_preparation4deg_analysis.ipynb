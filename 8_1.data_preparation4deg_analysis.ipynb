{
 "cells": [
  {
   "cell_type": "code",
   "execution_count": 1,
   "id": "6ec98ae1",
   "metadata": {},
   "outputs": [],
   "source": [
    "import scanpy as sc\n",
    "import pandas as pd\n",
    "import matplotlib.pyplot as plt\n",
    "import hdf5plugin"
   ]
  },
  {
   "cell_type": "code",
   "execution_count": 2,
   "id": "225eda6c",
   "metadata": {},
   "outputs": [
    {
     "data": {
      "text/plain": [
       "AnnData object with n_obs × n_vars = 12626 × 19965\n",
       "    obs: 'batch', 'condition', 'n_genes', 'prc_mt', 'prc_rb', 'n_counts', 'doublet', 'batch_num'\n",
       "    var: 'gene_ids'"
      ]
     },
     "execution_count": 2,
     "metadata": {},
     "output_type": "execute_result"
    }
   ],
   "source": [
    "adata = sc.read_h5ad(\"./data/5.H5AD_concatenated/alzheimer_data_concat_v1.h5ad\")\n",
    "adata"
   ]
  },
  {
   "cell_type": "code",
   "execution_count": 3,
   "id": "72d798e4",
   "metadata": {},
   "outputs": [
    {
     "data": {
      "text/plain": [
       "AnnData object with n_obs × n_vars = 12626 × 19965\n",
       "    obs: 'batch', 'condition', 'n_genes', 'prc_mt', 'prc_rb', 'n_counts', 'doublet', 'batch_num', '_scvi_batch', '_scvi_labels', 'leiden', 'cell_type'\n",
       "    var: 'gene_ids'\n",
       "    uns: '_scvi_manager_uuid', '_scvi_uuid', 'batch_colors', 'cell_type_colors', 'condition_colors', 'leiden', 'leiden_colors', 'log1p', 'neighbors', 'umap'\n",
       "    obsm: 'X_scVI', 'X_umap', 'ora_estimate', 'ora_pvals'\n",
       "    layers: 'counts'\n",
       "    obsp: 'connectivities', 'distances'"
      ]
     },
     "execution_count": 3,
     "metadata": {},
     "output_type": "execute_result"
    }
   ],
   "source": [
    "adata_anno = sc.read_h5ad(\"./data/7.H5AD_leiden&cell_annotation/scVI_integration_decoupleR_anno_v1.h5ad\")\n",
    "adata_anno"
   ]
  },
  {
   "cell_type": "code",
   "execution_count": 4,
   "id": "cd697a82",
   "metadata": {},
   "outputs": [
    {
     "data": {
      "text/plain": [
       "AAAGATGGTATAAACG-1-0                         Astrocyte\n",
       "AAAGCAAAGACTTTCG-1-0                         Astrocyte\n",
       "AAAGCAACAGCGAACA-1-0                 Inhibitory neuron\n",
       "AACCATGGTCTCAACA-1-0    Oligodendrocyte precursor cell\n",
       "AACCGCGCAGAAGCAC-1-0                 Excitatory neuron\n",
       "                                     ...              \n",
       "TTTGGTTTCGCCAGCA-1-6                 Inhibitory neuron\n",
       "TTTGGTTTCGGTTAAC-1-6                 Inhibitory neuron\n",
       "TTTGTCAAGATCCCAT-1-6                 Inhibitory neuron\n",
       "TTTGTCAAGCTAACTC-1-6                 Excitatory neuron\n",
       "TTTGTCAGTTCAGGCC-1-6                 Excitatory neuron\n",
       "Name: cell_type, Length: 12626, dtype: category\n",
       "Categories (7, object): ['Astrocyte', 'Excitatory neuron', 'Inhibitory neuron', 'Microglial cell', 'Oligodendrocyte', 'Oligodendrocyte precursor cell', 'Pericyte']"
      ]
     },
     "execution_count": 4,
     "metadata": {},
     "output_type": "execute_result"
    }
   ],
   "source": [
    "adata.obs[\"cell_type\"] = adata_anno.obs[\"cell_type\"]\n",
    "adata.obs[\"cell_type\"]"
   ]
  },
  {
   "cell_type": "code",
   "execution_count": 7,
   "id": "273a1ef9",
   "metadata": {},
   "outputs": [
    {
     "data": {
      "text/plain": [
       "AnnData object with n_obs × n_vars = 906 × 19965\n",
       "    obs: 'batch', 'condition', 'n_genes', 'prc_mt', 'prc_rb', 'n_counts', 'doublet', 'batch_num', 'cell_type'\n",
       "    var: 'gene_ids'"
      ]
     },
     "execution_count": 7,
     "metadata": {},
     "output_type": "execute_result"
    }
   ],
   "source": [
    "desired_cell_types = ['Astrocyte']\n",
    "filtered_adata = adata[adata.obs['cell_type'].isin(desired_cell_types)].copy()\n",
    "filtered_adata"
   ]
  },
  {
   "cell_type": "code",
   "execution_count": 8,
   "id": "1ad413f0",
   "metadata": {},
   "outputs": [
    {
     "data": {
      "text/plain": [
       "AnnData object with n_obs × n_vars = 906 × 19965\n",
       "    obs: 'batch', 'condition', 'n_genes', 'prc_mt', 'prc_rb', 'n_counts', 'doublet', 'batch_num', 'cell_type'\n",
       "    var: 'gene_ids'"
      ]
     },
     "execution_count": 8,
     "metadata": {},
     "output_type": "execute_result"
    }
   ],
   "source": [
    "filtered_adata"
   ]
  },
  {
   "cell_type": "code",
   "execution_count": 9,
   "id": "7f367f8c",
   "metadata": {},
   "outputs": [],
   "source": [
    "filtered_adata.write_h5ad(\n",
    "    \"./data/8.data4degs/alzheimer_data_astrocyte_only.h5ad\",\n",
    "    compression=hdf5plugin.FILTERS[\"zstd\"]\n",
    ")"
   ]
  },
  {
   "cell_type": "code",
   "execution_count": null,
   "id": "bdf030fe",
   "metadata": {},
   "outputs": [],
   "source": []
  }
 ],
 "metadata": {
  "kernelspec": {
   "display_name": "Python 3 (ipykernel)",
   "language": "python",
   "name": "python3"
  },
  "language_info": {
   "codemirror_mode": {
    "name": "ipython",
    "version": 3
   },
   "file_extension": ".py",
   "mimetype": "text/x-python",
   "name": "python",
   "nbconvert_exporter": "python",
   "pygments_lexer": "ipython3",
   "version": "3.9.17"
  }
 },
 "nbformat": 4,
 "nbformat_minor": 5
}
