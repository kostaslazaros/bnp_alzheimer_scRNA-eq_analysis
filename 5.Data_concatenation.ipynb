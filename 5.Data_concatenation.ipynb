{
 "cells": [
  {
   "cell_type": "code",
   "execution_count": 1,
   "id": "f6887de2",
   "metadata": {},
   "outputs": [],
   "source": [
    "import scanpy as sc\n",
    "import hdf5plugin\n",
    "import anndata\n",
    "import matplotlib.pyplot as plt\n",
    "from matplotlib.pyplot import rc_context\n",
    "import numpy as np\n",
    "import pandas as pd\n",
    "import os\n",
    "\n",
    "import warnings\n",
    "warnings.filterwarnings(\"ignore\")"
   ]
  },
  {
   "cell_type": "code",
   "execution_count": 2,
   "id": "6134ddb5",
   "metadata": {},
   "outputs": [],
   "source": [
    "VERSION = \"1\""
   ]
  },
  {
   "cell_type": "code",
   "execution_count": 3,
   "id": "3d05040c",
   "metadata": {},
   "outputs": [],
   "source": [
    "def get_h5ads(directory=\"./data/4.H5AD_filtered_without_doublets\"):\n",
    "    h5ad_name_lst = []\n",
    "    for file in os.listdir(directory):\n",
    "        if file.endswith(\".h5ad\"):\n",
    "            # Construct the full file path\n",
    "            file_path = os.path.join(directory, file)\n",
    "            # Print the file name\n",
    "            h5ad_name_lst.append(file)\n",
    "    return h5ad_name_lst"
   ]
  },
  {
   "cell_type": "markdown",
   "id": "427ee76a",
   "metadata": {},
   "source": [
    "- Δημιουργούμε μια λίστα με όλα τα επεξεργασμένα h5ad αρχεία\n",
    "\n",
    "- Τα h5ads περιέχουν anndata objects"
   ]
  },
  {
   "attachments": {
    "anndata.png": {
     "image/png": "[encoded data removed]"
    }
   },
   "cell_type": "markdown",
   "id": "187c67c3",
   "metadata": {},
   "source": [
    "![anndata.png](attachment:anndata.png)"
   ]
  },
  {
   "cell_type": "code",
   "execution_count": 4,
   "id": "44ff20f0",
   "metadata": {},
   "outputs": [
    {
     "data": {
      "text/plain": [
       "['fwd_filtered_GSM4432640_Alzheimer.h5ad',\n",
       " 'fwd_filtered_GSM4432639_Alzheimer.h5ad',\n",
       " 'fwd_filtered_GSM4432637_Control.h5ad',\n",
       " 'fwd_filtered_GSM4432641_Alzheimer.h5ad',\n",
       " 'fwd_filtered_GSM4432635_Control.h5ad',\n",
       " 'fwd_filtered_GSM4432636_Control.h5ad',\n",
       " 'fwd_filtered_GSM4432638_Alzheimer.h5ad']"
      ]
     },
     "execution_count": 4,
     "metadata": {},
     "output_type": "execute_result"
    }
   ],
   "source": [
    "adata_name_lst = get_h5ads()\n",
    "adata_name_lst"
   ]
  },
  {
   "cell_type": "code",
   "execution_count": 5,
   "id": "125e1149",
   "metadata": {},
   "outputs": [],
   "source": [
    "H5ADS = [f\"./data/4.H5AD_filtered_without_doublets/{i}\" for i in adata_name_lst]\n",
    "\n",
    "MERGED_NAME = \"alzheimer_data_concat\"\n",
    "H5AD_CONCAT = f\"./data/5.H5AD_concatenated/{MERGED_NAME}_v{VERSION}.h5ad\""
   ]
  },
  {
   "cell_type": "code",
   "execution_count": 6,
   "id": "77dfa0a8",
   "metadata": {},
   "outputs": [
    {
     "data": {
      "text/plain": [
       "['./data/4.H5AD_filtered_without_doublets/fwd_filtered_GSM4432640_Alzheimer.h5ad',\n",
       " './data/4.H5AD_filtered_without_doublets/fwd_filtered_GSM4432639_Alzheimer.h5ad',\n",
       " './data/4.H5AD_filtered_without_doublets/fwd_filtered_GSM4432637_Control.h5ad',\n",
       " './data/4.H5AD_filtered_without_doublets/fwd_filtered_GSM4432641_Alzheimer.h5ad',\n",
       " './data/4.H5AD_filtered_without_doublets/fwd_filtered_GSM4432635_Control.h5ad',\n",
       " './data/4.H5AD_filtered_without_doublets/fwd_filtered_GSM4432636_Control.h5ad',\n",
       " './data/4.H5AD_filtered_without_doublets/fwd_filtered_GSM4432638_Alzheimer.h5ad']"
      ]
     },
     "execution_count": 6,
     "metadata": {},
     "output_type": "execute_result"
    }
   ],
   "source": [
    "H5ADS"
   ]
  },
  {
   "cell_type": "code",
   "execution_count": 7,
   "id": "39ca5ce0",
   "metadata": {},
   "outputs": [
    {
     "data": {
      "text/plain": [
       "[AnnData object with n_obs × n_vars = 373 × 23508\n",
       "     obs: 'batch', 'condition', 'n_genes', 'prc_mt', 'prc_rb', 'n_counts', 'doublet'\n",
       "     var: 'gene_ids', 'n_cells',\n",
       " AnnData object with n_obs × n_vars = 1671 × 24272\n",
       "     obs: 'batch', 'condition', 'n_genes', 'prc_mt', 'prc_rb', 'n_counts', 'doublet'\n",
       "     var: 'gene_ids', 'n_cells',\n",
       " AnnData object with n_obs × n_vars = 1304 × 21871\n",
       "     obs: 'batch', 'condition', 'n_genes', 'prc_mt', 'prc_rb', 'n_counts', 'doublet'\n",
       "     var: 'gene_ids', 'n_cells',\n",
       " AnnData object with n_obs × n_vars = 3263 × 25974\n",
       "     obs: 'batch', 'condition', 'n_genes', 'prc_mt', 'prc_rb', 'n_counts', 'doublet'\n",
       "     var: 'gene_ids', 'n_cells',\n",
       " AnnData object with n_obs × n_vars = 2599 × 26100\n",
       "     obs: 'batch', 'condition', 'n_genes', 'prc_mt', 'prc_rb', 'n_counts', 'doublet'\n",
       "     var: 'gene_ids', 'n_cells',\n",
       " AnnData object with n_obs × n_vars = 926 × 21031\n",
       "     obs: 'batch', 'condition', 'n_genes', 'prc_mt', 'prc_rb', 'n_counts', 'doublet'\n",
       "     var: 'gene_ids', 'n_cells',\n",
       " AnnData object with n_obs × n_vars = 2490 × 24838\n",
       "     obs: 'batch', 'condition', 'n_genes', 'prc_mt', 'prc_rb', 'n_counts', 'doublet'\n",
       "     var: 'gene_ids', 'n_cells']"
      ]
     },
     "execution_count": 7,
     "metadata": {},
     "output_type": "execute_result"
    }
   ],
   "source": [
    "adatas = [sc.read_h5ad(i) for i in H5ADS]\n",
    "adatas"
   ]
  },
  {
   "cell_type": "code",
   "execution_count": 8,
   "id": "0fb49216",
   "metadata": {},
   "outputs": [
    {
     "data": {
      "text/plain": [
       "AnnData object with n_obs × n_vars = 12626 × 19965\n",
       "    obs: 'batch', 'condition', 'n_genes', 'prc_mt', 'prc_rb', 'n_counts', 'doublet', 'batch_num'\n",
       "    var: 'gene_ids', 'n_cells-0', 'n_cells-1', 'n_cells-2', 'n_cells-3', 'n_cells-4', 'n_cells-5', 'n_cells-6'"
      ]
     },
     "execution_count": 8,
     "metadata": {},
     "output_type": "execute_result"
    }
   ],
   "source": [
    "adata_merged = anndata.AnnData.concatenate(*adatas, batch_key='batch_num', join=\"inner\")\n",
    "adata_merged"
   ]
  },
  {
   "cell_type": "code",
   "execution_count": 9,
   "id": "0348cc31",
   "metadata": {},
   "outputs": [
    {
     "data": {
      "text/plain": [
       "AnnData object with n_obs × n_vars = 12626 × 19965\n",
       "    obs: 'batch', 'condition', 'n_genes', 'prc_mt', 'prc_rb', 'n_counts', 'doublet', 'batch_num'\n",
       "    var: 'gene_ids'"
      ]
     },
     "execution_count": 9,
     "metadata": {},
     "output_type": "execute_result"
    }
   ],
   "source": [
    "adata_merged.var = adata_merged.var[['gene_ids']]\n",
    "adata_merged"
   ]
  },
  {
   "cell_type": "code",
   "execution_count": 10,
   "id": "1f678902",
   "metadata": {},
   "outputs": [
    {
     "data": {
      "text/html": [
       "<div>\n",
       "<style scoped>\n",
       "    .dataframe tbody tr th:only-of-type {\n",
       "        vertical-align: middle;\n",
       "    }\n",
       "\n",
       "    .dataframe tbody tr th {\n",
       "        vertical-align: top;\n",
       "    }\n",
       "\n",
       "    .dataframe thead th {\n",
       "        text-align: right;\n",
       "    }\n",
       "</style>\n",
       "<table border=\"1\" class=\"dataframe\">\n",
       "  <thead>\n",
       "    <tr style=\"text-align: right;\">\n",
       "      <th></th>\n",
       "      <th>batch</th>\n",
       "      <th>condition</th>\n",
       "      <th>n_genes</th>\n",
       "      <th>prc_mt</th>\n",
       "      <th>prc_rb</th>\n",
       "      <th>n_counts</th>\n",
       "      <th>doublet</th>\n",
       "      <th>batch_num</th>\n",
       "    </tr>\n",
       "  </thead>\n",
       "  <tbody>\n",
       "    <tr>\n",
       "      <th>AAAGATGGTATAAACG-1-0</th>\n",
       "      <td>GSM4432640</td>\n",
       "      <td>Alzheimer</td>\n",
       "      <td>1849</td>\n",
       "      <td>0.063633</td>\n",
       "      <td>0.222717</td>\n",
       "      <td>3143.0</td>\n",
       "      <td>singlet</td>\n",
       "      <td>0</td>\n",
       "    </tr>\n",
       "    <tr>\n",
       "      <th>AAAGCAAAGACTTTCG-1-0</th>\n",
       "      <td>GSM4432640</td>\n",
       "      <td>Alzheimer</td>\n",
       "      <td>2492</td>\n",
       "      <td>0.021692</td>\n",
       "      <td>0.260304</td>\n",
       "      <td>4610.0</td>\n",
       "      <td>singlet</td>\n",
       "      <td>0</td>\n",
       "    </tr>\n",
       "    <tr>\n",
       "      <th>AAAGCAACAGCGAACA-1-0</th>\n",
       "      <td>GSM4432640</td>\n",
       "      <td>Alzheimer</td>\n",
       "      <td>4826</td>\n",
       "      <td>0.252815</td>\n",
       "      <td>0.168544</td>\n",
       "      <td>13053.0</td>\n",
       "      <td>singlet</td>\n",
       "      <td>0</td>\n",
       "    </tr>\n",
       "    <tr>\n",
       "      <th>AACCATGGTCTCAACA-1-0</th>\n",
       "      <td>GSM4432640</td>\n",
       "      <td>Alzheimer</td>\n",
       "      <td>2311</td>\n",
       "      <td>0.143301</td>\n",
       "      <td>0.429902</td>\n",
       "      <td>4187.0</td>\n",
       "      <td>singlet</td>\n",
       "      <td>0</td>\n",
       "    </tr>\n",
       "    <tr>\n",
       "      <th>AACCGCGCAGAAGCAC-1-0</th>\n",
       "      <td>GSM4432640</td>\n",
       "      <td>Alzheimer</td>\n",
       "      <td>4583</td>\n",
       "      <td>0.134953</td>\n",
       "      <td>0.206398</td>\n",
       "      <td>12597.0</td>\n",
       "      <td>singlet</td>\n",
       "      <td>0</td>\n",
       "    </tr>\n",
       "    <tr>\n",
       "      <th>...</th>\n",
       "      <td>...</td>\n",
       "      <td>...</td>\n",
       "      <td>...</td>\n",
       "      <td>...</td>\n",
       "      <td>...</td>\n",
       "      <td>...</td>\n",
       "      <td>...</td>\n",
       "      <td>...</td>\n",
       "    </tr>\n",
       "    <tr>\n",
       "      <th>TTTGGTTTCGCCAGCA-1-6</th>\n",
       "      <td>GSM4432638</td>\n",
       "      <td>Alzheimer</td>\n",
       "      <td>1559</td>\n",
       "      <td>1.855848</td>\n",
       "      <td>0.129478</td>\n",
       "      <td>2317.0</td>\n",
       "      <td>singlet</td>\n",
       "      <td>6</td>\n",
       "    </tr>\n",
       "    <tr>\n",
       "      <th>TTTGGTTTCGGTTAAC-1-6</th>\n",
       "      <td>GSM4432638</td>\n",
       "      <td>Alzheimer</td>\n",
       "      <td>1958</td>\n",
       "      <td>3.612282</td>\n",
       "      <td>0.270921</td>\n",
       "      <td>3322.0</td>\n",
       "      <td>singlet</td>\n",
       "      <td>6</td>\n",
       "    </tr>\n",
       "    <tr>\n",
       "      <th>TTTGTCAAGATCCCAT-1-6</th>\n",
       "      <td>GSM4432638</td>\n",
       "      <td>Alzheimer</td>\n",
       "      <td>1677</td>\n",
       "      <td>1.465927</td>\n",
       "      <td>0.316957</td>\n",
       "      <td>2524.0</td>\n",
       "      <td>singlet</td>\n",
       "      <td>6</td>\n",
       "    </tr>\n",
       "    <tr>\n",
       "      <th>TTTGTCAAGCTAACTC-1-6</th>\n",
       "      <td>GSM4432638</td>\n",
       "      <td>Alzheimer</td>\n",
       "      <td>2417</td>\n",
       "      <td>1.857010</td>\n",
       "      <td>0.278552</td>\n",
       "      <td>4308.0</td>\n",
       "      <td>singlet</td>\n",
       "      <td>6</td>\n",
       "    </tr>\n",
       "    <tr>\n",
       "      <th>TTTGTCAGTTCAGGCC-1-6</th>\n",
       "      <td>GSM4432638</td>\n",
       "      <td>Alzheimer</td>\n",
       "      <td>1477</td>\n",
       "      <td>3.402563</td>\n",
       "      <td>0.441891</td>\n",
       "      <td>2263.0</td>\n",
       "      <td>singlet</td>\n",
       "      <td>6</td>\n",
       "    </tr>\n",
       "  </tbody>\n",
       "</table>\n",
       "<p>12626 rows × 8 columns</p>\n",
       "</div>"
      ],
      "text/plain": [
       "                           batch  condition  n_genes    prc_mt    prc_rb  \\\n",
       "AAAGATGGTATAAACG-1-0  GSM4432640  Alzheimer     1849  0.063633  0.222717   \n",
       "AAAGCAAAGACTTTCG-1-0  GSM4432640  Alzheimer     2492  0.021692  0.260304   \n",
       "AAAGCAACAGCGAACA-1-0  GSM4432640  Alzheimer     4826  0.252815  0.168544   \n",
       "AACCATGGTCTCAACA-1-0  GSM4432640  Alzheimer     2311  0.143301  0.429902   \n",
       "AACCGCGCAGAAGCAC-1-0  GSM4432640  Alzheimer     4583  0.134953  0.206398   \n",
       "...                          ...        ...      ...       ...       ...   \n",
       "TTTGGTTTCGCCAGCA-1-6  GSM4432638  Alzheimer     1559  1.855848  0.129478   \n",
       "TTTGGTTTCGGTTAAC-1-6  GSM4432638  Alzheimer     1958  3.612282  0.270921   \n",
       "TTTGTCAAGATCCCAT-1-6  GSM4432638  Alzheimer     1677  1.465927  0.316957   \n",
       "TTTGTCAAGCTAACTC-1-6  GSM4432638  Alzheimer     2417  1.857010  0.278552   \n",
       "TTTGTCAGTTCAGGCC-1-6  GSM4432638  Alzheimer     1477  3.402563  0.441891   \n",
       "\n",
       "                      n_counts  doublet batch_num  \n",
       "AAAGATGGTATAAACG-1-0    3143.0  singlet         0  \n",
       "AAAGCAAAGACTTTCG-1-0    4610.0  singlet         0  \n",
       "AAAGCAACAGCGAACA-1-0   13053.0  singlet         0  \n",
       "AACCATGGTCTCAACA-1-0    4187.0  singlet         0  \n",
       "AACCGCGCAGAAGCAC-1-0   12597.0  singlet         0  \n",
       "...                        ...      ...       ...  \n",
       "TTTGGTTTCGCCAGCA-1-6    2317.0  singlet         6  \n",
       "TTTGGTTTCGGTTAAC-1-6    3322.0  singlet         6  \n",
       "TTTGTCAAGATCCCAT-1-6    2524.0  singlet         6  \n",
       "TTTGTCAAGCTAACTC-1-6    4308.0  singlet         6  \n",
       "TTTGTCAGTTCAGGCC-1-6    2263.0  singlet         6  \n",
       "\n",
       "[12626 rows x 8 columns]"
      ]
     },
     "execution_count": 10,
     "metadata": {},
     "output_type": "execute_result"
    }
   ],
   "source": [
    "adata_merged.obs"
   ]
  },
  {
   "cell_type": "code",
   "execution_count": 11,
   "id": "883f72bb",
   "metadata": {},
   "outputs": [
    {
     "data": {
      "text/plain": [
       "GSM4432641    3263\n",
       "GSM4432635    2599\n",
       "GSM4432638    2490\n",
       "GSM4432639    1671\n",
       "GSM4432637    1304\n",
       "GSM4432636     926\n",
       "GSM4432640     373\n",
       "Name: batch, dtype: int64"
      ]
     },
     "execution_count": 11,
     "metadata": {},
     "output_type": "execute_result"
    }
   ],
   "source": [
    "adata_merged.obs[\"batch\"].value_counts()"
   ]
  },
  {
   "cell_type": "code",
   "execution_count": 12,
   "id": "33704fdb",
   "metadata": {},
   "outputs": [],
   "source": [
    "adata_merged.write_h5ad(\n",
    "    H5AD_CONCAT,\n",
    "    compression=hdf5plugin.FILTERS[\"zstd\"],\n",
    "    compression_opts=hdf5plugin.Zstd(clevel=5).filter_options\n",
    ")"
   ]
  },
  {
   "cell_type": "code",
   "execution_count": null,
   "id": "6640e927",
   "metadata": {},
   "outputs": [],
   "source": []
  }
 ],
 "metadata": {
  "kernelspec": {
   "display_name": "Python 3 (ipykernel)",
   "language": "python",
   "name": "python3"
  },
  "language_info": {
   "codemirror_mode": {
    "name": "ipython",
    "version": 3
   },
   "file_extension": ".py",
   "mimetype": "text/x-python",
   "name": "python",
   "nbconvert_exporter": "python",
   "pygments_lexer": "ipython3",
   "version": "3.9.17"
  }
 },
 "nbformat": 4,
 "nbformat_minor": 5
}
