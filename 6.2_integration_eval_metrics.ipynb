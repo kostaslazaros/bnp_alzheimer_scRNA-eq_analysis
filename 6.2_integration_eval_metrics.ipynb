{
 "cells": [
  {
   "cell_type": "code",
   "execution_count": 1,
   "metadata": {},
   "outputs": [],
   "source": [
    "import scanpy as sc\n",
    "import hdf5plugin\n",
    "# from scalex.metrics import batch_entropy_mixing_score\n",
    "# from scalex.metrics import silhouette_score\n",
    "import pandas as pd\n",
    "import scib"
   ]
  },
  {
   "cell_type": "code",
   "execution_count": null,
   "metadata": {},
   "outputs": [],
   "source": [
    "from rpy2.robjects import pandas2ri\n",
    "pandas2ri.activate()"
   ]
  },
  {
   "cell_type": "code",
   "execution_count": null,
   "metadata": {},
   "outputs": [],
   "source": [
    "# H5AD_CONCAT = \"./data/5_GSE202704_concatenated_h5ad/GSE202704_concatenated_v1.h5ad\"\n",
    "# H5AD_INTEGRATED = \"./data/6_GSE202704_integrated_h5ad/gse202704_fwd_scVI_integrated1.h5ad\""
   ]
  },
  {
   "cell_type": "code",
   "execution_count": null,
   "metadata": {},
   "outputs": [],
   "source": [
    "# H5AD_CONCAT = \"./data/5_GSE202704_concatenated_h5ad/GSE202704_concatenated_GF_only_v1.h5ad\"\n",
    "# H5AD_INTEGRATED = \"./data/7_GSE202704_annotated_h5ad/GSE202704_GF_only_fwd_integrated_annotated.h5ad\""
   ]
  },
  {
   "cell_type": "code",
   "execution_count": 2,
   "metadata": {},
   "outputs": [],
   "source": [
    "H5AD_CONCAT = \"./data/5_GSE202704_concatenated_h5ad/GSE202704_concatenated_SPF_only_v1.h5ad\"\n",
    "H5AD_INTEGRATED = \"./data/7_GSE202704_annotated_h5ad/GSE202704_SPF_only_fwd_integrated_annotated.h5ad\""
   ]
  },
  {
   "cell_type": "code",
   "execution_count": null,
   "metadata": {},
   "outputs": [],
   "source": [
    "merged_adata = sc.read_h5ad(H5AD_CONCAT)\n",
    "merged_adata"
   ]
  },
  {
   "cell_type": "code",
   "execution_count": 3,
   "metadata": {},
   "outputs": [
    {
     "data": {
      "text/plain": [
       "AnnData object with n_obs × n_vars = 33513 × 18272\n",
       "    obs: 'batch', 'condition', 'n_genes', 'prc_mt', 'prc_rb', 'n_counts', 'doublet', 'batch_num', 'brain_region', '_scvi_batch', '_scvi_labels', 'leiden', 'cell_type'\n",
       "    var: 'gene_ids', 'feature_types'\n",
       "    uns: '_scvi_manager_uuid', '_scvi_uuid', 'brain_region_colors', 'cell_type_colors', 'leiden', 'leiden_colors', 'log1p', 'neighbors', 'umap'\n",
       "    obsm: 'X_scVI', 'X_umap', 'ora_estimate', 'ora_pvals'\n",
       "    layers: 'counts'\n",
       "    obsp: 'connectivities', 'distances'"
      ]
     },
     "execution_count": 3,
     "metadata": {},
     "output_type": "execute_result"
    }
   ],
   "source": [
    "adata_integrated = sc.read_h5ad(H5AD_INTEGRATED)\n",
    "adata_integrated"
   ]
  },
  {
   "cell_type": "code",
   "execution_count": null,
   "metadata": {},
   "outputs": [],
   "source": [
    "sc.pp.normalize_total(merged_adata, inplace=True)\n",
    "sc.pp.log1p(merged_adata)\n",
    "# sc.pp.scale(merged_adata, max_value=10)\n",
    "# sc.pp.pca(merged_adata)"
   ]
  },
  {
   "cell_type": "code",
   "execution_count": null,
   "metadata": {},
   "outputs": [],
   "source": [
    "scib.me.ilisi_graph(merged_adata, batch_key=\"batch\", type_=\"full\", scale=True)"
   ]
  },
  {
   "cell_type": "code",
   "execution_count": 4,
   "metadata": {},
   "outputs": [
    {
     "name": "stderr",
     "output_type": "stream",
     "text": [
      "/home/kostas/miniconda3/envs/scrna/lib/python3.9/site-packages/umap/distances.py:1063: NumbaDeprecationWarning: \u001b[1mThe 'nopython' keyword argument was not supplied to the 'numba.jit' decorator. The implicit default value for this argument is currently False, but it will be changed to True in Numba 0.59.0. See https://numba.readthedocs.io/en/stable/reference/deprecation.html#deprecation-of-object-mode-fall-back-behaviour-when-using-jit for details.\u001b[0m\n",
      "  @numba.jit()\n",
      "/home/kostas/miniconda3/envs/scrna/lib/python3.9/site-packages/umap/distances.py:1071: NumbaDeprecationWarning: \u001b[1mThe 'nopython' keyword argument was not supplied to the 'numba.jit' decorator. The implicit default value for this argument is currently False, but it will be changed to True in Numba 0.59.0. See https://numba.readthedocs.io/en/stable/reference/deprecation.html#deprecation-of-object-mode-fall-back-behaviour-when-using-jit for details.\u001b[0m\n",
      "  @numba.jit()\n",
      "/home/kostas/miniconda3/envs/scrna/lib/python3.9/site-packages/umap/distances.py:1086: NumbaDeprecationWarning: \u001b[1mThe 'nopython' keyword argument was not supplied to the 'numba.jit' decorator. The implicit default value for this argument is currently False, but it will be changed to True in Numba 0.59.0. See https://numba.readthedocs.io/en/stable/reference/deprecation.html#deprecation-of-object-mode-fall-back-behaviour-when-using-jit for details.\u001b[0m\n",
      "  @numba.jit()\n",
      "/home/kostas/miniconda3/envs/scrna/lib/python3.9/site-packages/umap/umap_.py:660: NumbaDeprecationWarning: \u001b[1mThe 'nopython' keyword argument was not supplied to the 'numba.jit' decorator. The implicit default value for this argument is currently False, but it will be changed to True in Numba 0.59.0. See https://numba.readthedocs.io/en/stable/reference/deprecation.html#deprecation-of-object-mode-fall-back-behaviour-when-using-jit for details.\u001b[0m\n",
      "  @numba.jit()\n"
     ]
    },
    {
     "data": {
      "text/plain": [
       "0.3210012800130369"
      ]
     },
     "execution_count": 4,
     "metadata": {},
     "output_type": "execute_result"
    }
   ],
   "source": [
    "scib.me.ilisi_graph(adata_integrated, batch_key=\"batch\", type_=\"embed\", use_rep=\"X_scVI\", scale=True)"
   ]
  },
  {
   "cell_type": "code",
   "execution_count": null,
   "metadata": {},
   "outputs": [],
   "source": []
  }
 ],
 "metadata": {
  "kernelspec": {
   "display_name": "Python 3 (ipykernel)",
   "language": "python",
   "name": "python3"
  },
  "language_info": {
   "codemirror_mode": {
    "name": "ipython",
    "version": 3
   },
   "file_extension": ".py",
   "mimetype": "text/x-python",
   "name": "python",
   "nbconvert_exporter": "python",
   "pygments_lexer": "ipython3",
   "version": "3.9.17"
  }
 },
 "nbformat": 4,
 "nbformat_minor": 2
}
