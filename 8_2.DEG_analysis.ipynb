{
 "cells": [
  {
   "cell_type": "code",
   "execution_count": 1,
   "id": "2792b3e8",
   "metadata": {},
   "outputs": [],
   "source": [
    "import scanpy as sc\n",
    "import pandas as pd\n",
    "import hdf5plugin"
   ]
  },
  {
   "cell_type": "code",
   "execution_count": 2,
   "id": "9c9b637a",
   "metadata": {},
   "outputs": [],
   "source": [
    "ADATA_PATH = \"./data/8.data4degs/alzheimer_data_all_ctypes.h5ad\""
   ]
  },
  {
   "cell_type": "code",
   "execution_count": 3,
   "id": "038abb91",
   "metadata": {},
   "outputs": [
    {
     "data": {
      "text/plain": [
       "AnnData object with n_obs × n_vars = 12626 × 19965\n",
       "    obs: 'batch', 'condition', 'n_genes', 'prc_mt', 'prc_rb', 'n_counts', 'doublet', 'batch_num', 'cell_type'\n",
       "    var: 'gene_ids'"
      ]
     },
     "execution_count": 3,
     "metadata": {},
     "output_type": "execute_result"
    }
   ],
   "source": [
    "adata = sc.read_h5ad(ADATA_PATH)\n",
    "adata"
   ]
  },
  {
   "cell_type": "code",
   "execution_count": 4,
   "id": "cd1999b0",
   "metadata": {},
   "outputs": [],
   "source": [
    "sc.pp.log1p(adata)"
   ]
  },
  {
   "cell_type": "code",
   "execution_count": 5,
   "id": "da913611",
   "metadata": {},
   "outputs": [
    {
     "data": {
      "text/plain": [
       "AAAGATGGTATAAACG-1-0    Alzheimer\n",
       "AAAGCAAAGACTTTCG-1-0    Alzheimer\n",
       "AAAGCAACAGCGAACA-1-0    Alzheimer\n",
       "AACCATGGTCTCAACA-1-0    Alzheimer\n",
       "AACCGCGCAGAAGCAC-1-0    Alzheimer\n",
       "                          ...    \n",
       "TTTGGTTTCGCCAGCA-1-6    Alzheimer\n",
       "TTTGGTTTCGGTTAAC-1-6    Alzheimer\n",
       "TTTGTCAAGATCCCAT-1-6    Alzheimer\n",
       "TTTGTCAAGCTAACTC-1-6    Alzheimer\n",
       "TTTGTCAGTTCAGGCC-1-6    Alzheimer\n",
       "Name: condition, Length: 12626, dtype: category\n",
       "Categories (2, object): ['Alzheimer', 'Control']"
      ]
     },
     "execution_count": 5,
     "metadata": {},
     "output_type": "execute_result"
    }
   ],
   "source": [
    "adata.obs[\"condition\"]"
   ]
  },
  {
   "cell_type": "code",
   "execution_count": 6,
   "id": "0c3ee726",
   "metadata": {},
   "outputs": [],
   "source": [
    "sc.tl.rank_genes_groups(adata, \n",
    "                        groupby=\"condition\", \n",
    "                        groups=[\"Alzheimer\"], \n",
    "                        reference=\"Control\",\n",
    "                        method=\"wilcoxon\",\n",
    "                        )"
   ]
  },
  {
   "cell_type": "code",
   "execution_count": 7,
   "id": "61b1199b",
   "metadata": {},
   "outputs": [],
   "source": [
    "result = adata.uns[\"rank_genes_groups\"]"
   ]
  },
  {
   "cell_type": "code",
   "execution_count": 8,
   "id": "dd31f395",
   "metadata": {},
   "outputs": [
    {
     "data": {
      "text/html": [
       "<div>\n",
       "<style scoped>\n",
       "    .dataframe tbody tr th:only-of-type {\n",
       "        vertical-align: middle;\n",
       "    }\n",
       "\n",
       "    .dataframe tbody tr th {\n",
       "        vertical-align: top;\n",
       "    }\n",
       "\n",
       "    .dataframe thead th {\n",
       "        text-align: right;\n",
       "    }\n",
       "</style>\n",
       "<table border=\"1\" class=\"dataframe\">\n",
       "  <thead>\n",
       "    <tr style=\"text-align: right;\">\n",
       "      <th></th>\n",
       "      <th>genes</th>\n",
       "      <th>pvals</th>\n",
       "      <th>pvals_adj</th>\n",
       "      <th>logfoldchanges</th>\n",
       "    </tr>\n",
       "  </thead>\n",
       "  <tbody>\n",
       "    <tr>\n",
       "      <th>0</th>\n",
       "      <td>PCDH9</td>\n",
       "      <td>8.898130e-193</td>\n",
       "      <td>1.776512e-188</td>\n",
       "      <td>0.772779</td>\n",
       "    </tr>\n",
       "    <tr>\n",
       "      <th>1</th>\n",
       "      <td>PPP2R2B</td>\n",
       "      <td>9.468310e-150</td>\n",
       "      <td>6.301161e-146</td>\n",
       "      <td>0.825975</td>\n",
       "    </tr>\n",
       "    <tr>\n",
       "      <th>2</th>\n",
       "      <td>RASGEF1B</td>\n",
       "      <td>3.816608e-148</td>\n",
       "      <td>1.904965e-144</td>\n",
       "      <td>0.667339</td>\n",
       "    </tr>\n",
       "    <tr>\n",
       "      <th>3</th>\n",
       "      <td>MALAT1</td>\n",
       "      <td>1.991192e-137</td>\n",
       "      <td>7.950829e-134</td>\n",
       "      <td>0.820886</td>\n",
       "    </tr>\n",
       "    <tr>\n",
       "      <th>4</th>\n",
       "      <td>INO80D</td>\n",
       "      <td>4.343137e-119</td>\n",
       "      <td>1.445179e-115</td>\n",
       "      <td>0.584602</td>\n",
       "    </tr>\n",
       "    <tr>\n",
       "      <th>...</th>\n",
       "      <td>...</td>\n",
       "      <td>...</td>\n",
       "      <td>...</td>\n",
       "      <td>...</td>\n",
       "    </tr>\n",
       "    <tr>\n",
       "      <th>19960</th>\n",
       "      <td>MT-CO3</td>\n",
       "      <td>1.219097e-78</td>\n",
       "      <td>1.106330e-75</td>\n",
       "      <td>-0.682048</td>\n",
       "    </tr>\n",
       "    <tr>\n",
       "      <th>19961</th>\n",
       "      <td>MT-CYB</td>\n",
       "      <td>1.414127e-82</td>\n",
       "      <td>1.568502e-79</td>\n",
       "      <td>-0.654018</td>\n",
       "    </tr>\n",
       "    <tr>\n",
       "      <th>19962</th>\n",
       "      <td>MT-ATP6</td>\n",
       "      <td>3.368273e-87</td>\n",
       "      <td>4.202974e-84</td>\n",
       "      <td>-0.682908</td>\n",
       "    </tr>\n",
       "    <tr>\n",
       "      <th>19963</th>\n",
       "      <td>MT-ND2</td>\n",
       "      <td>1.361433e-110</td>\n",
       "      <td>3.883002e-107</td>\n",
       "      <td>-0.731047</td>\n",
       "    </tr>\n",
       "    <tr>\n",
       "      <th>19964</th>\n",
       "      <td>ARL17B</td>\n",
       "      <td>5.962242e-160</td>\n",
       "      <td>5.951808e-156</td>\n",
       "      <td>-1.604182</td>\n",
       "    </tr>\n",
       "  </tbody>\n",
       "</table>\n",
       "<p>19965 rows × 4 columns</p>\n",
       "</div>"
      ],
      "text/plain": [
       "          genes          pvals      pvals_adj  logfoldchanges\n",
       "0         PCDH9  8.898130e-193  1.776512e-188        0.772779\n",
       "1       PPP2R2B  9.468310e-150  6.301161e-146        0.825975\n",
       "2      RASGEF1B  3.816608e-148  1.904965e-144        0.667339\n",
       "3        MALAT1  1.991192e-137  7.950829e-134        0.820886\n",
       "4        INO80D  4.343137e-119  1.445179e-115        0.584602\n",
       "...         ...            ...            ...             ...\n",
       "19960    MT-CO3   1.219097e-78   1.106330e-75       -0.682048\n",
       "19961    MT-CYB   1.414127e-82   1.568502e-79       -0.654018\n",
       "19962   MT-ATP6   3.368273e-87   4.202974e-84       -0.682908\n",
       "19963    MT-ND2  1.361433e-110  3.883002e-107       -0.731047\n",
       "19964    ARL17B  5.962242e-160  5.951808e-156       -1.604182\n",
       "\n",
       "[19965 rows x 4 columns]"
      ]
     },
     "execution_count": 8,
     "metadata": {},
     "output_type": "execute_result"
    }
   ],
   "source": [
    "degs = pd.DataFrame(\n",
    "        {\n",
    "            \"genes\": result[\"names\"][\"Alzheimer\"],\n",
    "            \"pvals\": result[\"pvals\"][\"Alzheimer\"],\n",
    "            \"pvals_adj\": result[\"pvals_adj\"][\"Alzheimer\"],\n",
    "            \"logfoldchanges\": result[\"logfoldchanges\"][\"Alzheimer\"],\n",
    "        }\n",
    "    )\n",
    "\n",
    "degs"
   ]
  },
  {
   "cell_type": "code",
   "execution_count": 75,
   "id": "b33bac6a",
   "metadata": {},
   "outputs": [
    {
     "data": {
      "text/html": [
       "<div>\n",
       "<style scoped>\n",
       "    .dataframe tbody tr th:only-of-type {\n",
       "        vertical-align: middle;\n",
       "    }\n",
       "\n",
       "    .dataframe tbody tr th {\n",
       "        vertical-align: top;\n",
       "    }\n",
       "\n",
       "    .dataframe thead th {\n",
       "        text-align: right;\n",
       "    }\n",
       "</style>\n",
       "<table border=\"1\" class=\"dataframe\">\n",
       "  <thead>\n",
       "    <tr style=\"text-align: right;\">\n",
       "      <th></th>\n",
       "      <th>genes</th>\n",
       "      <th>pvals</th>\n",
       "      <th>pvals_adj</th>\n",
       "      <th>logfoldchanges</th>\n",
       "    </tr>\n",
       "  </thead>\n",
       "  <tbody>\n",
       "    <tr>\n",
       "      <th>2244</th>\n",
       "      <td>CLU</td>\n",
       "      <td>0.000056</td>\n",
       "      <td>0.000424</td>\n",
       "      <td>0.168439</td>\n",
       "    </tr>\n",
       "  </tbody>\n",
       "</table>\n",
       "</div>"
      ],
      "text/plain": [
       "     genes     pvals  pvals_adj  logfoldchanges\n",
       "2244   CLU  0.000056   0.000424        0.168439"
      ]
     },
     "execution_count": 75,
     "metadata": {},
     "output_type": "execute_result"
    }
   ],
   "source": [
    "row = degs.loc[degs['genes'] == 'CLU']\n",
    "row"
   ]
  },
  {
   "cell_type": "code",
   "execution_count": 12,
   "id": "ece279dc",
   "metadata": {},
   "outputs": [
    {
     "data": {
      "text/plain": [
       "True"
      ]
     },
     "execution_count": 12,
     "metadata": {},
     "output_type": "execute_result"
    }
   ],
   "source": [
    "# Check if the value is in the specified column\n",
    "is_value_in_column = degs[\"genes\"].isin([\"APP\"]).any()\n",
    "is_value_in_column"
   ]
  },
  {
   "cell_type": "code",
   "execution_count": 55,
   "id": "6f16a5c6",
   "metadata": {},
   "outputs": [
    {
     "data": {
      "text/html": [
       "<div>\n",
       "<style scoped>\n",
       "    .dataframe tbody tr th:only-of-type {\n",
       "        vertical-align: middle;\n",
       "    }\n",
       "\n",
       "    .dataframe tbody tr th {\n",
       "        vertical-align: top;\n",
       "    }\n",
       "\n",
       "    .dataframe thead th {\n",
       "        text-align: right;\n",
       "    }\n",
       "</style>\n",
       "<table border=\"1\" class=\"dataframe\">\n",
       "  <thead>\n",
       "    <tr style=\"text-align: right;\">\n",
       "      <th></th>\n",
       "      <th>genes</th>\n",
       "      <th>pvals</th>\n",
       "      <th>pvals_adj</th>\n",
       "      <th>logfoldchanges</th>\n",
       "    </tr>\n",
       "  </thead>\n",
       "  <tbody>\n",
       "    <tr>\n",
       "      <th>0</th>\n",
       "      <td>PCDH9</td>\n",
       "      <td>8.898130e-193</td>\n",
       "      <td>1.776512e-188</td>\n",
       "      <td>0.772779</td>\n",
       "    </tr>\n",
       "    <tr>\n",
       "      <th>1</th>\n",
       "      <td>PPP2R2B</td>\n",
       "      <td>9.468310e-150</td>\n",
       "      <td>6.301161e-146</td>\n",
       "      <td>0.825975</td>\n",
       "    </tr>\n",
       "    <tr>\n",
       "      <th>2</th>\n",
       "      <td>RASGEF1B</td>\n",
       "      <td>3.816608e-148</td>\n",
       "      <td>1.904965e-144</td>\n",
       "      <td>0.667339</td>\n",
       "    </tr>\n",
       "    <tr>\n",
       "      <th>3</th>\n",
       "      <td>MALAT1</td>\n",
       "      <td>1.991192e-137</td>\n",
       "      <td>7.950829e-134</td>\n",
       "      <td>0.820886</td>\n",
       "    </tr>\n",
       "    <tr>\n",
       "      <th>4</th>\n",
       "      <td>INO80D</td>\n",
       "      <td>4.343137e-119</td>\n",
       "      <td>1.445179e-115</td>\n",
       "      <td>0.584602</td>\n",
       "    </tr>\n",
       "    <tr>\n",
       "      <th>...</th>\n",
       "      <td>...</td>\n",
       "      <td>...</td>\n",
       "      <td>...</td>\n",
       "      <td>...</td>\n",
       "    </tr>\n",
       "    <tr>\n",
       "      <th>2231</th>\n",
       "      <td>MT-CO3</td>\n",
       "      <td>1.219097e-78</td>\n",
       "      <td>1.106330e-75</td>\n",
       "      <td>-0.682048</td>\n",
       "    </tr>\n",
       "    <tr>\n",
       "      <th>2232</th>\n",
       "      <td>MT-CYB</td>\n",
       "      <td>1.414127e-82</td>\n",
       "      <td>1.568502e-79</td>\n",
       "      <td>-0.654018</td>\n",
       "    </tr>\n",
       "    <tr>\n",
       "      <th>2233</th>\n",
       "      <td>MT-ATP6</td>\n",
       "      <td>3.368273e-87</td>\n",
       "      <td>4.202974e-84</td>\n",
       "      <td>-0.682908</td>\n",
       "    </tr>\n",
       "    <tr>\n",
       "      <th>2234</th>\n",
       "      <td>MT-ND2</td>\n",
       "      <td>1.361433e-110</td>\n",
       "      <td>3.883002e-107</td>\n",
       "      <td>-0.731047</td>\n",
       "    </tr>\n",
       "    <tr>\n",
       "      <th>2235</th>\n",
       "      <td>ARL17B</td>\n",
       "      <td>5.962242e-160</td>\n",
       "      <td>5.951808e-156</td>\n",
       "      <td>-1.604182</td>\n",
       "    </tr>\n",
       "  </tbody>\n",
       "</table>\n",
       "<p>2236 rows × 4 columns</p>\n",
       "</div>"
      ],
      "text/plain": [
       "         genes          pvals      pvals_adj  logfoldchanges\n",
       "0        PCDH9  8.898130e-193  1.776512e-188        0.772779\n",
       "1      PPP2R2B  9.468310e-150  6.301161e-146        0.825975\n",
       "2     RASGEF1B  3.816608e-148  1.904965e-144        0.667339\n",
       "3       MALAT1  1.991192e-137  7.950829e-134        0.820886\n",
       "4       INO80D  4.343137e-119  1.445179e-115        0.584602\n",
       "...        ...            ...            ...             ...\n",
       "2231    MT-CO3   1.219097e-78   1.106330e-75       -0.682048\n",
       "2232    MT-CYB   1.414127e-82   1.568502e-79       -0.654018\n",
       "2233   MT-ATP6   3.368273e-87   4.202974e-84       -0.682908\n",
       "2234    MT-ND2  1.361433e-110  3.883002e-107       -0.731047\n",
       "2235    ARL17B  5.962242e-160  5.951808e-156       -1.604182\n",
       "\n",
       "[2236 rows x 4 columns]"
      ]
     },
     "execution_count": 55,
     "metadata": {},
     "output_type": "execute_result"
    }
   ],
   "source": [
    "degs_filtered = degs[\n",
    "        (degs[\"pvals\"] <= 0.05)\n",
    "        & (degs[\"pvals\"] != 0.0)\n",
    "        & (degs[\"logfoldchanges\"].abs() > 0.5)\n",
    "    ].reset_index(drop=True)\n",
    "\n",
    "degs_filtered"
   ]
  },
  {
   "cell_type": "code",
   "execution_count": 98,
   "id": "d1b458d3",
   "metadata": {},
   "outputs": [
    {
     "data": {
      "text/html": [
       "<div>\n",
       "<style scoped>\n",
       "    .dataframe tbody tr th:only-of-type {\n",
       "        vertical-align: middle;\n",
       "    }\n",
       "\n",
       "    .dataframe tbody tr th {\n",
       "        vertical-align: top;\n",
       "    }\n",
       "\n",
       "    .dataframe thead th {\n",
       "        text-align: right;\n",
       "    }\n",
       "</style>\n",
       "<table border=\"1\" class=\"dataframe\">\n",
       "  <thead>\n",
       "    <tr style=\"text-align: right;\">\n",
       "      <th></th>\n",
       "      <th>genes</th>\n",
       "      <th>pvals</th>\n",
       "      <th>pvals_adj</th>\n",
       "      <th>logfoldchanges</th>\n",
       "    </tr>\n",
       "  </thead>\n",
       "  <tbody>\n",
       "    <tr>\n",
       "      <th>1395</th>\n",
       "      <td>VWF</td>\n",
       "      <td>0.00093</td>\n",
       "      <td>0.005507</td>\n",
       "      <td>0.860515</td>\n",
       "    </tr>\n",
       "  </tbody>\n",
       "</table>\n",
       "</div>"
      ],
      "text/plain": [
       "     genes    pvals  pvals_adj  logfoldchanges\n",
       "1395   VWF  0.00093   0.005507        0.860515"
      ]
     },
     "execution_count": 98,
     "metadata": {},
     "output_type": "execute_result"
    }
   ],
   "source": [
    "row = degs_filtered.loc[degs_filtered['genes'] == 'VWF']\n",
    "row"
   ]
  },
  {
   "cell_type": "code",
   "execution_count": 61,
   "id": "7b8bec5d",
   "metadata": {},
   "outputs": [],
   "source": [
    "degs_filtered.to_csv(\"./data/8.data4degs/alzheimer_data_degs_v1.csv\", index=False)"
   ]
  },
  {
   "cell_type": "code",
   "execution_count": null,
   "id": "fa77280b",
   "metadata": {},
   "outputs": [],
   "source": []
  }
 ],
 "metadata": {
  "kernelspec": {
   "display_name": "Python 3 (ipykernel)",
   "language": "python",
   "name": "python3"
  },
  "language_info": {
   "codemirror_mode": {
    "name": "ipython",
    "version": 3
   },
   "file_extension": ".py",
   "mimetype": "text/x-python",
   "name": "python",
   "nbconvert_exporter": "python",
   "pygments_lexer": "ipython3",
   "version": "3.9.17"
  }
 },
 "nbformat": 4,
 "nbformat_minor": 5
}
