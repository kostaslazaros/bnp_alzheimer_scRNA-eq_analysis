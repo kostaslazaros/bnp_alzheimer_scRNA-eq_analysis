{
 "cells": [
  {
   "cell_type": "code",
   "execution_count": 1,
   "id": "eff1b6fe",
   "metadata": {},
   "outputs": [],
   "source": [
    "import pandas as pd"
   ]
  },
  {
   "cell_type": "code",
   "execution_count": null,
   "id": "a117f020",
   "metadata": {},
   "outputs": [],
   "source": [
    "marker_df = pd.read_excel(\"./data/9.Marker_genes/Cell_marker_Human.xlsx\")\n",
    "marker_df"
   ]
  },
  {
   "cell_type": "code",
   "execution_count": 2,
   "id": "b4e9d10b",
   "metadata": {},
   "outputs": [],
   "source": [
    "# values_to_remove = ['ACSL6', 'ADORA3', 'ADRB2', 'ADSS1', 'AIF1', \n",
    "#                     'ALDOC', 'AMBP', 'ANKRD26P3', 'APOC4', \n",
    "#                     'AQP6', 'ATP5F1E', 'ATP6V0C', 'BCL2A1', \n",
    "#                     'C2orf27A', 'CASTOR1', 'CCL3', 'CCL4', 'CD163', \n",
    "#                     'CD19', 'CD248', 'CD300LB', 'CD34', 'CD5', 'CD52', \n",
    "#                     'CLEC7A', 'COL1A1', 'COL1A2', 'COL3A1', 'COPS9', \n",
    "#                     'COX6A1', 'COX6A2', 'COX8A', 'CST7', 'CTSD', 'CTSE', \n",
    "#                     'CXCR4', 'CYBB', 'DNAJB4', 'EOMES', 'ETL4', 'EVI2A', \n",
    "#                     'FOXC1', 'FOXC2', 'FXYD6', 'GASK1B', 'GPR183', 'GPR65', \n",
    "#                     'GPR75', 'GPR84', 'GRAMD2B', 'H2BP1', 'HCAR2', 'HEXA', \n",
    "#                     'IL17A', 'IL1B', 'IRAG1', 'ISL1', 'KAT14', 'KLRC2', 'LHFPL6', \n",
    "#                     'LHX1', 'LHX5', 'LOX', 'MIR9-1HG', 'MPEG1', 'MT1X', 'NEUROD1', \n",
    "#                     'NME1', 'NME2', 'PDCD1', 'PDCD6IPP2', 'PHETA1', 'PRRT2', 'RACK1', \n",
    "#                     'RPS10', 'RPSAP58', 'RUNX3', 'S100A4', 'SLAMF9', 'SNHG29', 'TENT5C', \n",
    "#                     'THBS1', 'TLR2', 'TM9SF1', 'TMEM151B', 'TNF', 'TREM2', 'VENTX', 'ZBTB8B', 'ZNF662']\n",
    "\n",
    "\n",
    "# values_to_remove = ['ADORA3', 'ADRB2', 'ADSS1', 'AIF1', 'ANKRD26P3', \n",
    "#                     'APOC4', 'AQP6', 'ATP6V0C', 'BCL2A1', 'CCL3', 'CCL4', \n",
    "#                     'CD163', 'CD300LB', 'CD34', 'CD5', 'CD52', 'CLEC7A', 'COPS9', \n",
    "#                     'COX6A1', 'COX6A2', 'COX8A', 'CST7', 'CTSD', 'CTSE', 'CXCR4', \n",
    "#                     'CYBB', 'DNAJB4', 'ETL4', 'FXYD6', 'GPR183', 'GPR65', 'GPR84', \n",
    "#                     'H2BP1', 'HCAR2', 'HEXA', 'IL1B', 'ISL1', 'LHX1', 'LOX', 'MPEG1', \n",
    "#                     'PDCD1', 'PDCD6IPP2', 'PHETA1', 'RPS10', 'RUNX3', 'S100A4', 'SLAMF9', \n",
    "#                     'TENT5C', 'TLR2', 'TM9SF1', 'TNF', 'TREM2', 'VENTX', 'ZBTB8B', 'ZNF662']\n",
    "\n",
    "\n",
    "values_to_remove = ['ATP5F1E', 'C2orf27A', 'EVI2A', 'FXYD6', 'KLRC2', 'NME1', 'NME2', 'RACK1', 'RPSAP58', 'SNHG29']"
   ]
  },
  {
   "cell_type": "code",
   "execution_count": 3,
   "id": "a3b50841",
   "metadata": {},
   "outputs": [],
   "source": [
    "cell_markers = pd.read_csv(\"./data/9.Marker_genes/brain_markers.csv\")\n",
    "cell_markers = cell_markers[~cell_markers['Symbol'].isin(values_to_remove)]"
   ]
  },
  {
   "cell_type": "code",
   "execution_count": 4,
   "id": "e21b0b4a",
   "metadata": {},
   "outputs": [
    {
     "data": {
      "text/html": [
       "<div>\n",
       "<style scoped>\n",
       "    .dataframe tbody tr th:only-of-type {\n",
       "        vertical-align: middle;\n",
       "    }\n",
       "\n",
       "    .dataframe tbody tr th {\n",
       "        vertical-align: top;\n",
       "    }\n",
       "\n",
       "    .dataframe thead th {\n",
       "        text-align: right;\n",
       "    }\n",
       "</style>\n",
       "<table border=\"1\" class=\"dataframe\">\n",
       "  <thead>\n",
       "    <tr style=\"text-align: right;\">\n",
       "      <th></th>\n",
       "      <th>cell_name</th>\n",
       "      <th>Symbol</th>\n",
       "    </tr>\n",
       "  </thead>\n",
       "  <tbody>\n",
       "    <tr>\n",
       "      <th>0</th>\n",
       "      <td>Pericyte</td>\n",
       "      <td>MCAM</td>\n",
       "    </tr>\n",
       "    <tr>\n",
       "      <th>1</th>\n",
       "      <td>Pericyte</td>\n",
       "      <td>NGFR</td>\n",
       "    </tr>\n",
       "    <tr>\n",
       "      <th>2</th>\n",
       "      <td>Pericyte</td>\n",
       "      <td>PECAM1</td>\n",
       "    </tr>\n",
       "    <tr>\n",
       "      <th>3</th>\n",
       "      <td>Pericyte</td>\n",
       "      <td>PTPRC</td>\n",
       "    </tr>\n",
       "    <tr>\n",
       "      <th>4</th>\n",
       "      <td>Pericyte</td>\n",
       "      <td>CSPG4</td>\n",
       "    </tr>\n",
       "    <tr>\n",
       "      <th>...</th>\n",
       "      <td>...</td>\n",
       "      <td>...</td>\n",
       "    </tr>\n",
       "    <tr>\n",
       "      <th>724</th>\n",
       "      <td>Oligodendrocyte</td>\n",
       "      <td>PDGFRA</td>\n",
       "    </tr>\n",
       "    <tr>\n",
       "      <th>725</th>\n",
       "      <td>Oligodendrocyte</td>\n",
       "      <td>QKI</td>\n",
       "    </tr>\n",
       "    <tr>\n",
       "      <th>726</th>\n",
       "      <td>Oligodendrocyte</td>\n",
       "      <td>PCDH9</td>\n",
       "    </tr>\n",
       "    <tr>\n",
       "      <th>727</th>\n",
       "      <td>Oligodendrocyte precursor cell</td>\n",
       "      <td>SOX6</td>\n",
       "    </tr>\n",
       "    <tr>\n",
       "      <th>728</th>\n",
       "      <td>Oligodendrocyte precursor cell</td>\n",
       "      <td>CSPG4</td>\n",
       "    </tr>\n",
       "  </tbody>\n",
       "</table>\n",
       "<p>729 rows × 2 columns</p>\n",
       "</div>"
      ],
      "text/plain": [
       "                          cell_name  Symbol\n",
       "0                          Pericyte    MCAM\n",
       "1                          Pericyte    NGFR\n",
       "2                          Pericyte  PECAM1\n",
       "3                          Pericyte   PTPRC\n",
       "4                          Pericyte   CSPG4\n",
       "..                              ...     ...\n",
       "724                 Oligodendrocyte  PDGFRA\n",
       "725                 Oligodendrocyte     QKI\n",
       "726                 Oligodendrocyte   PCDH9\n",
       "727  Oligodendrocyte precursor cell    SOX6\n",
       "728  Oligodendrocyte precursor cell   CSPG4\n",
       "\n",
       "[729 rows x 2 columns]"
      ]
     },
     "execution_count": 4,
     "metadata": {},
     "output_type": "execute_result"
    }
   ],
   "source": [
    "cell_markers"
   ]
  },
  {
   "cell_type": "code",
   "execution_count": null,
   "id": "bc8cf480",
   "metadata": {},
   "outputs": [],
   "source": [
    "cell_markers.to_csv(\"./data/9.Marker_genes/brain_markers.csv\", index=False)"
   ]
  },
  {
   "cell_type": "code",
   "execution_count": null,
   "id": "21e0512a",
   "metadata": {},
   "outputs": [],
   "source": [
    "ctypes_of_interest = [\"Pericyte\", \"Excitatory neuron\", \n",
    "                      \"Inhibitory neuron\", \"Microglial cell\", \n",
    "                      \"Astrocyte\", \"Oligodendrocyte\", \n",
    "                      \"Oligodendrocyte precursor cell\"]"
   ]
  },
  {
   "cell_type": "code",
   "execution_count": null,
   "id": "17a06f4c",
   "metadata": {},
   "outputs": [],
   "source": [
    "tissues_of_interest = [\"Brain\", \"Adipose tissue\"]"
   ]
  },
  {
   "cell_type": "code",
   "execution_count": 5,
   "id": "5471329b",
   "metadata": {},
   "outputs": [],
   "source": [
    "ctypes_of_interest = [\"Oligodendrocyte\"]"
   ]
  },
  {
   "cell_type": "code",
   "execution_count": 6,
   "id": "e2ca8e4c",
   "metadata": {
    "scrolled": false
   },
   "outputs": [
    {
     "data": {
      "text/html": [
       "<div>\n",
       "<style scoped>\n",
       "    .dataframe tbody tr th:only-of-type {\n",
       "        vertical-align: middle;\n",
       "    }\n",
       "\n",
       "    .dataframe tbody tr th {\n",
       "        vertical-align: top;\n",
       "    }\n",
       "\n",
       "    .dataframe thead th {\n",
       "        text-align: right;\n",
       "    }\n",
       "</style>\n",
       "<table border=\"1\" class=\"dataframe\">\n",
       "  <thead>\n",
       "    <tr style=\"text-align: right;\">\n",
       "      <th></th>\n",
       "      <th>cell_name</th>\n",
       "      <th>Symbol</th>\n",
       "    </tr>\n",
       "  </thead>\n",
       "  <tbody>\n",
       "    <tr>\n",
       "      <th>10</th>\n",
       "      <td>Oligodendrocyte</td>\n",
       "      <td>RTN4</td>\n",
       "    </tr>\n",
       "    <tr>\n",
       "      <th>14</th>\n",
       "      <td>Oligodendrocyte</td>\n",
       "      <td>PLP1</td>\n",
       "    </tr>\n",
       "    <tr>\n",
       "      <th>16</th>\n",
       "      <td>Oligodendrocyte</td>\n",
       "      <td>SEC14L5</td>\n",
       "    </tr>\n",
       "    <tr>\n",
       "      <th>17</th>\n",
       "      <td>Oligodendrocyte</td>\n",
       "      <td>MAP6D1</td>\n",
       "    </tr>\n",
       "    <tr>\n",
       "      <th>19</th>\n",
       "      <td>Oligodendrocyte</td>\n",
       "      <td>LGI3</td>\n",
       "    </tr>\n",
       "    <tr>\n",
       "      <th>...</th>\n",
       "      <td>...</td>\n",
       "      <td>...</td>\n",
       "    </tr>\n",
       "    <tr>\n",
       "      <th>722</th>\n",
       "      <td>Oligodendrocyte</td>\n",
       "      <td>SOX6</td>\n",
       "    </tr>\n",
       "    <tr>\n",
       "      <th>723</th>\n",
       "      <td>Oligodendrocyte</td>\n",
       "      <td>CNTNAP2</td>\n",
       "    </tr>\n",
       "    <tr>\n",
       "      <th>724</th>\n",
       "      <td>Oligodendrocyte</td>\n",
       "      <td>PDGFRA</td>\n",
       "    </tr>\n",
       "    <tr>\n",
       "      <th>725</th>\n",
       "      <td>Oligodendrocyte</td>\n",
       "      <td>QKI</td>\n",
       "    </tr>\n",
       "    <tr>\n",
       "      <th>726</th>\n",
       "      <td>Oligodendrocyte</td>\n",
       "      <td>PCDH9</td>\n",
       "    </tr>\n",
       "  </tbody>\n",
       "</table>\n",
       "<p>173 rows × 2 columns</p>\n",
       "</div>"
      ],
      "text/plain": [
       "           cell_name   Symbol\n",
       "10   Oligodendrocyte     RTN4\n",
       "14   Oligodendrocyte     PLP1\n",
       "16   Oligodendrocyte  SEC14L5\n",
       "17   Oligodendrocyte   MAP6D1\n",
       "19   Oligodendrocyte     LGI3\n",
       "..               ...      ...\n",
       "722  Oligodendrocyte     SOX6\n",
       "723  Oligodendrocyte  CNTNAP2\n",
       "724  Oligodendrocyte   PDGFRA\n",
       "725  Oligodendrocyte      QKI\n",
       "726  Oligodendrocyte    PCDH9\n",
       "\n",
       "[173 rows x 2 columns]"
      ]
     },
     "execution_count": 6,
     "metadata": {},
     "output_type": "execute_result"
    }
   ],
   "source": [
    "cell_markers = cell_markers[cell_markers['cell_name'].isin(ctypes_of_interest)]\n",
    "cell_markers"
   ]
  },
  {
   "cell_type": "code",
   "execution_count": null,
   "id": "c68d00ac",
   "metadata": {},
   "outputs": [],
   "source": [
    "marker_df = marker_df[[\"tissue_type\", \"cell_name\", \"Symbol\"]]\n",
    "\n",
    "# Use the isin method to filter the DataFrame\n",
    "marker_df = marker_df[marker_df['tissue_type'].isin(tissues_of_interest)]\n",
    "\n",
    "# Use the isin method to filter the DataFrame\n",
    "marker_df = marker_df[marker_df['cell_name'].isin(ctypes_of_interest)]\n",
    "\n",
    "# Keep only two specific columns\n",
    "# marker_df = marker_df[[\"cell_name\", \"Symbol\"]]\n",
    "\n",
    "# Remove rows where 'Column2' has NaN values\n",
    "marker_df = marker_df.dropna(subset=['Symbol'])\n",
    "\n",
    "# Remove duplicate rows based on all columns\n",
    "marker_df = marker_df.drop_duplicates()\n",
    "\n",
    "# Check final version of the dataframe\n",
    "marker_df"
   ]
  },
  {
   "cell_type": "code",
   "execution_count": 8,
   "id": "473046be",
   "metadata": {},
   "outputs": [],
   "source": [
    "cell_markers.to_csv(\"./data/9.Marker_genes/brain_markers_oligodendrocytes_only.csv\", index=False)"
   ]
  },
  {
   "cell_type": "code",
   "execution_count": null,
   "id": "5bf7ef71",
   "metadata": {},
   "outputs": [],
   "source": [
    "unique_pairs_df = marker_df.drop_duplicates(subset=['tissue_type', 'cell_name'])\n",
    "number_of_unique_pairs = unique_pairs_df.shape[0]"
   ]
  },
  {
   "cell_type": "code",
   "execution_count": null,
   "id": "29e25f3f",
   "metadata": {},
   "outputs": [],
   "source": [
    "number_of_unique_pairs"
   ]
  },
  {
   "cell_type": "code",
   "execution_count": null,
   "id": "80b88256",
   "metadata": {},
   "outputs": [],
   "source": []
  }
 ],
 "metadata": {
  "kernelspec": {
   "display_name": "Python 3 (ipykernel)",
   "language": "python",
   "name": "python3"
  },
  "language_info": {
   "codemirror_mode": {
    "name": "ipython",
    "version": 3
   },
   "file_extension": ".py",
   "mimetype": "text/x-python",
   "name": "python",
   "nbconvert_exporter": "python",
   "pygments_lexer": "ipython3",
   "version": "3.9.17"
  }
 },
 "nbformat": 4,
 "nbformat_minor": 5
}
